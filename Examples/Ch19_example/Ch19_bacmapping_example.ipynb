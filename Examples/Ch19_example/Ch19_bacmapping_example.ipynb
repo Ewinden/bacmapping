{
 "cells": [
  {
   "cell_type": "markdown",
   "metadata": {},
   "source": [
    "# Chromosome 19 bacmapping\n",
    "\n",
    "This jupyter notebook contains an examples on how to use some bacmapping functions for chromosome 19. "
   ]
  },
  {
   "cell_type": "code",
   "execution_count": 1,
   "metadata": {},
   "outputs": [],
   "source": [
    "import bacmapping as bmap\n",
    "import matplotlib as plt\n",
    "import os\n",
    "from Bio import Entrez"
   ]
  },
  {
   "cell_type": "markdown",
   "metadata": {},
   "source": [
    "## An example dataset\n",
    "The following commands are used on the example dataset provided here, containing only the details and sequence for chromosome 19 of the RP11 BACs, for the sake of size. This will still take a few minutes.\n",
    "-   Instead of running getNewClones, which would download all the material, create an empty folder and place the folders details and sequence inside\n",
    "-   Run the following commands from inside the folder"
   ]
  },
  {
   "cell_type": "markdown",
   "metadata": {},
   "source": [
    "To begin, this code will download the sequence required to run the code, this is not part of the example, we just need some sequence!"
   ]
  },
  {
   "cell_type": "code",
   "execution_count": null,
   "metadata": {},
   "outputs": [],
   "source": [
    "email = \"example@website.com\" # Remember to give NIH your email!\n",
    "\n",
    "acc = 'NC_000019.10' # this is the name of the file we'll be downloading, chromosome 19 from the human genome\n",
    "wd = os.getcwd() # get current directory\n",
    "seqdir = os.path.join(wd , 'sequences' ) #making the directory to save this in\n",
    "os.makedirs(seqdir) #making the directory to save this in\n",
    "fpath = os.path.join(seqdir,  acc + '.fasta') #the path to save our new sequence in\n",
    "Entrez.email = email # You are required to provide an email\n",
    "net_handle = Entrez.efetch(db=\"nucleotide\", id=acc, rettype=\"fasta\", retmode=\"text\") #This does the heavy lifting, using Biopython to access and download the single file\n",
    "out_handle = open(fpath, \"w\") #opening a new path to write the file into\n",
    "out_handle.write(net_handle.read()) # writing the new sequence file\n",
    "out_handle.close()\n",
    "net_handle.close() # close everything out"
   ]
  },
  {
   "cell_type": "markdown",
   "metadata": {},
   "source": [
    "Map the BACs provided in the example dataset by running mapPlacedClones"
   ]
  },
  {
   "cell_type": "code",
   "execution_count": null,
   "metadata": {},
   "outputs": [],
   "source": [
    "bmap.mapPlacedClones(cpustouse=8, chunk_size=1000)"
   ]
  },
  {
   "cell_type": "markdown",
   "metadata": {},
   "source": [
    "The statistics on this dataset can be determined by running the following commands, which are detailed below in the \"Functions for statistics\" section, they'll save 4 csv files with the results of this analysis"
   ]
  },
  {
   "cell_type": "code",
   "execution_count": null,
   "metadata": {},
   "outputs": [],
   "source": [
    "bmap.countPlacedBACs()\n",
    "bmap.getCoverage()\n",
    "bmap.getAverageLength()\n",
    "bmap.getSequencedClonesStats()"
   ]
  },
  {
   "cell_type": "markdown",
   "metadata": {},
   "source": [
    "To create a library of BAC pairs which are linearized to produce overlapping ends. We'll set longestoverlap, the longest acceptable overlap in the overlapping end, to 500 and shortestoverlap, the shorted acceptable overlap, to 0. This means that we'll also include BACs which are linearized at the same site. This code will produce a file in pairs detailing all the possible pairs."
   ]
  },
  {
   "cell_type": "code",
   "execution_count": null,
   "metadata": {},
   "outputs": [],
   "source": [
    "bmap.makePairs(cpustouse=8,longestoverlap=500,shortestoverlap=0)"
   ]
  },
  {
   "cell_type": "markdown",
   "metadata": {},
   "source": [
    "Finally, let's explore one set of maps produced in the library, we'll return all the maps for one BAC which is included in the library and then get an image of the produced map."
   ]
  },
  {
   "cell_type": "code",
   "execution_count": 3,
   "metadata": {},
   "outputs": [
    {
     "data": {
      "image/png": "[encoded data removed]",
      "text/plain": [
       "<Figure size 640x480 with 1 Axes>"
      ]
     },
     "metadata": {},
     "output_type": "display_data"
    }
   ],
   "source": [
    "name = 'RP11-1055H23'\n",
    "enzyme = 'FspI'\n",
    "maps = bmap.getMaps(name)\n",
    "print(maps)\n",
    "rmap = bmap.getRestrictionMap(name,enzyme)\n",
    "print(rmap)\n",
    "plt = bmap.drawMap(name, enzyme)\n",
    "plt.show()"
   ]
  },
  {
   "cell_type": "markdown",
   "metadata": {},
   "source": [
    "-   maps from bmap.getMaps(name) is a series of all the restriction maps for RP11-1055H23\n",
    "-   rmap from bmap.getRestrictionMap(name,enzyme) is just the cut locations of FspI in RP11-1055H23\n",
    "-   plt is a visual representation of rmap"
   ]
  }
 ],
 "metadata": {
  "kernelspec": {
   "display_name": "bac",
   "language": "python",
   "name": "python3"
  },
  "language_info": {
   "codemirror_mode": {
    "name": "ipython",
    "version": 3
   },
   "file_extension": ".py",
   "mimetype": "text/x-python",
   "name": "python",
   "nbconvert_exporter": "python",
   "pygments_lexer": "ipython3",
   "version": "3.11.4"
  },
  "orig_nbformat": 4
 },
 "nbformat": 4,
 "nbformat_minor": 2
}
