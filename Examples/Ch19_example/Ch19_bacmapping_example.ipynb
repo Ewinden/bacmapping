{
 "cells": [
  {
   "cell_type": "markdown",
   "metadata": {},
   "source": [
    "## Making restriction maps of the BACs in the RP11 library on chromosome 19\n",
    "\n",
    "This jupyter notebook contains an example of running the pipeline, the input data is reduced to only BACs in RP11 on chromosome 19 so it should only take a few minutes to run any command.\n",
    "\n",
    "Importing bacmapping as bmap to have access to the functions, importing plt from matplotlib so we can show a nice map when we're done, os is useful for moving around files"
   ]
  },
  {
   "cell_type": "code",
   "execution_count": 1,
   "metadata": {},
   "outputs": [],
   "source": [
    "import bacmapping as bmap\n",
    "import matplotlib.pyplot as plt\n",
    "import os"
   ]
  },
  {
   "cell_type": "markdown",
   "metadata": {},
   "source": [
    "Setting some variables, accession number, library and chromosome size we're restricting the library to, as well as chunksize and cpus in processing and your email."
   ]
  },
  {
   "cell_type": "code",
   "execution_count": 2,
   "metadata": {},
   "outputs": [],
   "source": [
    "email = \"example@website.com\" # Remember to give NCBI your email!\n",
    "\n",
    "acc = 'NC_000019.10' # accession number of human genome chromosome 19\n",
    "lib = 'RP11' # library we're interested in\n",
    "chrom = '19' # chromosome number we're interested in\n",
    "chunksize = 1000 # how many entries to read into memory in each chunk, bigger = faster and more memory usage\n",
    "cpus = 8 # how many cpus to use in multiprocessing, more means faster but you need the cpus free"
   ]
  },
  {
   "cell_type": "markdown",
   "metadata": {},
   "source": [
    "We need to get the clones we're going to map and download the sequence we are using\n",
    "For the full pipeline, we'd run getNewClones instead of getNewClonesMiniset. This would take longer and use more space.\n",
    "This will make two new folders, details and sequences, details has all the information on the clones, sequences has the sequences\n",
    "\n",
    "It will take a few minutes to download everything"
   ]
  },
  {
   "cell_type": "code",
   "execution_count": null,
   "metadata": {},
   "outputs": [],
   "source": [
    "bmap.getNewClonesMiniset(email, lib, acc, chrom, chunk_size = chunksize) # a variation on downloading the dataset which only downloads one library and one chromosome"
   ]
  },
  {
   "cell_type": "markdown",
   "metadata": {},
   "source": [
    "Map the end-sequenced BACs in the example dataset by running mapPlacedClones, this will take a few minutes to run"
   ]
  },
  {
   "cell_type": "code",
   "execution_count": 3,
   "metadata": {},
   "outputs": [
    {
     "name": "stdout",
     "output_type": "stream",
     "text": [
      "INFO: Pandarallel will run on 8 workers.\n",
      "INFO: Pandarallel will use standard multiprocessing data transfer (pipe) to transfer data between the main process and workers.\n",
      "\n",
      "WARNING: You are on Windows. If you detect any issue with pandarallel, be sure you checked out the Troubleshooting page:\n",
      "https://nalepae.github.io/pandarallel/troubleshooting/\n"
     ]
    },
    {
     "data": {
      "application/vnd.jupyter.widget-view+json": {
       "model_id": "4a5857f4403844a6aa228f7da4b7ba10",
       "version_major": 2,
       "version_minor": 0
      },
      "text/plain": [
       "VBox(children=(HBox(children=(IntProgress(value=0, description='0.00%', max=124), Label(value='0 / 124'))), HB…"
      ]
     },
     "metadata": {},
     "output_type": "display_data"
    },
    {
     "data": {
      "application/vnd.jupyter.widget-view+json": {
       "model_id": "66b42881d25c495590588091f8ebbf2b",
       "version_major": 2,
       "version_minor": 0
      },
      "text/plain": [
       "VBox(children=(HBox(children=(IntProgress(value=0, description='0.00%', max=124), Label(value='0 / 124'))), HB…"
      ]
     },
     "metadata": {},
     "output_type": "display_data"
    }
   ],
   "source": [
    "bmap.mapPlacedClones(cpustouse=cpus, chunk_size=chunksize, pandaralleltime=False)"
   ]
  },
  {
   "cell_type": "markdown",
   "metadata": {},
   "source": [
    "Some of the BACs are insert-sequenced and use a different function to be restriction mapped, mapSequencedClones"
   ]
  },
  {
   "cell_type": "code",
   "execution_count": null,
   "metadata": {},
   "outputs": [],
   "source": [
    "bmap.mapSequencedClones(cpustouse=cpus)"
   ]
  },
  {
   "cell_type": "markdown",
   "metadata": {},
   "source": [
    "The statistics on this dataset can be determined by running the following commands, which are detailed in the \"Functions for statistics\" section, they'll save 4 csv files with the results of this analysis"
   ]
  },
  {
   "cell_type": "code",
   "execution_count": null,
   "metadata": {},
   "outputs": [],
   "source": [
    "bmap.countPlacedBACs()\n",
    "bmap.getCoverage()\n",
    "bmap.getAverageLength()\n",
    "bmap.getSequencedClonesStats()"
   ]
  },
  {
   "cell_type": "markdown",
   "metadata": {},
   "source": [
    "Finally, let's explore one set of maps produced in the library, we'll return all the maps for one BAC which is included in the library and then get an image of the produced map."
   ]
  },
  {
   "cell_type": "code",
   "execution_count": null,
   "metadata": {},
   "outputs": [],
   "source": [
    "name = 'RP11-965D17'\n",
    "enzyme = 'FspI'\n",
    "maps = bmap.getMaps(name)\n",
    "#print(maps)\n",
    "rmap = bmap.getRestrictionMap(name,enzyme)\n",
    "print('Sites in ' + name + ' where ' + enzyme + ' cuts: '+ str(rmap))\n",
    "plt = bmap.drawMap(name, enzyme)\n",
    "plt.show()"
   ]
  },
  {
   "cell_type": "markdown",
   "metadata": {},
   "source": [
    "-   maps from bmap.getMaps(name) is a series of all the restriction maps for RP11-1055H23\n",
    "-   rmap from bmap.getRestrictionMap(name,enzyme) is just the cut locations of FspI in RP11-1055H23\n",
    "-   plt is a visual representation of rmap\n",
    "\n",
    "\n",
    "Then let's find pairs that include our BAC of interest. We'll set longestoverlap, the longest acceptable overlap in the overlapping end, to 500 and shortestoverlap, the shorted acceptable overlap, to 0. This means that we'll also include BACs which are linearized at the same site. "
   ]
  },
  {
   "cell_type": "code",
   "execution_count": null,
   "metadata": {},
   "outputs": [],
   "source": [
    "print(bmap.findPairsFromName(name,longestoverlap=500,shortestoverlap=0))"
   ]
  },
  {
   "cell_type": "markdown",
   "metadata": {},
   "source": [
    "Instead of just finding one, we can find all BAC pairs which are linearized to produce overlapping ends. This code will produce a file in pairs detailing all the possible pairs."
   ]
  },
  {
   "cell_type": "code",
   "execution_count": null,
   "metadata": {},
   "outputs": [],
   "source": [
    "bmap.makePairs(cpustouse=cpus,longestoverlap=500,shortestoverlap=0)"
   ]
  }
 ],
 "metadata": {
  "kernelspec": {
   "display_name": "bac",
   "language": "python",
   "name": "python3"
  },
  "language_info": {
   "codemirror_mode": {
    "name": "ipython",
    "version": 3
   },
   "file_extension": ".py",
   "mimetype": "text/x-python",
   "name": "python",
   "nbconvert_exporter": "python",
   "pygments_lexer": "ipython3",
   "version": "3.11.4"
  },
  {
   "cell_type": "markdown",
   "metadata": {},
   "source": [
    "## Function to explore the library"
   ]
  },
  {
   "cell_type": "markdown",
   "metadata": {},
   "source": [
    "### getRestrictionMap\n",
    "\n",
    "Given the name of a BAC and an enzyme, returns the cut locations."
   ]
  },
  {
   "cell_type": "code",
   "execution_count": null,
   "metadata": {},
   "outputs": [],
   "source": [
    "name = \"RP11-168H2\"\n",
    "enzyme = \"SgrDI\"\n",
    "maps = bmap.getRestrictionMap(name, enzyme)"
   ]
  },
  {
   "cell_type": "markdown",
   "metadata": {},
   "source": [
    "### getMaps\n",
    "\n",
    "Given the name of a BAC, returns a dataframe containing all the restriction maps related to that BAC."
   ]
  },
  {
   "cell_type": "code",
   "execution_count": null,
   "metadata": {},
   "outputs": [],
   "source": [
    "name = \"RP11-168H2\"\n",
    "mapfn = bmap.getMaps(name)"
   ]
  },
  {
   "cell_type": "markdown",
   "metadata": {},
   "source": [
    "### getRightIsoschizomer\n",
    "\n",
    "Given an enzyme name, returns the enzyme name and Bio.restriction class which corresponds to the isoschizomer which is in the database. Name is a string of the enzyme name, libraryenzyme is the Bio.restriction class of the enzyme."
   ]
  },
  {
   "cell_type": "code",
   "execution_count": null,
   "metadata": {},
   "outputs": [],
   "source": [
    "testenzyme = \"SgrDI\"\n",
    "name, libraryenzyme = bmap.getRightIsoschizomer(testenzyme)"
   ]
  },
  {
   "cell_type": "markdown",
   "metadata": {},
   "source": [
    "### DrawMap\n",
    "\n",
    "Draws a map for a given BAC and enzyme."
   ]
  },
  {
   "cell_type": "code",
   "execution_count": null,
   "metadata": {},
   "outputs": [],
   "source": [
    "name = \"RP11-168H2\"\n",
    "enzyme = \"SgrDI\"\n",
    "rmap = bmap.drawMap(name, enzyme)"
   ]
  },
  {
   "cell_type": "markdown",
   "metadata": {},
   "source": [
    "### getSequenceFromName\n",
    "\n",
    "Given the name of a BAC, tries to return the sequence of that insert."
   ]
  },
  {
   "cell_type": "code",
   "execution_count": null,
   "metadata": {},
   "outputs": [],
   "source": [
    "name = \"RP11-168H2\"\n",
    "seq = bmap.getSequenceFromName(name)"
   ]
  },
  {
   "cell_type": "markdown",
   "metadata": {},
   "source": [
    "### getSequenceFromLoc\n",
    "\n",
    "Given a chromosome, start and end location, returns sequence of that location."
   ]
  },
  {
   "cell_type": "code",
   "execution_count": null,
   "metadata": {},
   "outputs": [],
   "source": [
    "chrom = 2\n",
    "start = 100000\n",
    "end = 500000\n",
    "seq = bmap.getSequenceFromLoc(chrom,start,end)"
   ]
  },
  {
   "cell_type": "markdown",
   "metadata": {},
   "source": [
    "### getMapsFromLoc\n",
    "\n",
    "Given a chromosome, start and end location, returns all the maps in that region."
   ]
  },
  {
   "cell_type": "code",
   "execution_count": null,
   "metadata": {},
   "outputs": [],
   "source": [
    "chrom = 2\n",
    "start = 100000\n",
    "end = 500000\n",
    "maps = bmap.getMapsFromLoc(chrom,start,end)"
   ]
  },
  {
   "cell_type": "markdown",
   "metadata": {},
   "source": [
    "### findPairsFromName\n",
    "\n",
    "Given a row for a specific BAC as well as overlap and other details, finds possible BACs with acceptable overlap and restriction sites. This returns a dataframe where each line is a pair of BACs, including details of what enzymes are used and how they cut."
   ]
  },
  {
   "cell_type": "code",
   "execution_count": null,
   "metadata": {},
   "outputs": [],
   "source": [
    "name = \"RP11-168H2\"\n",
    "longestoverlap=200\n",
    "shortestoverlap=20\n",
    "pairs = bmap.findPairsFromName(name, longestoverlap, shortestoverlap)"
   ]
  }
 ],
 "metadata": {
  "kernelspec": {
   "display_name": "bac",
   "language": "python",
   "name": "python3"
  },
  "language_info": {
   "codemirror_mode": {
    "name": "ipython",
    "version": 3
   },
   "file_extension": ".py",
   "mimetype": "text/x-python",
   "name": "python",
   "nbconvert_exporter": "python",
   "pygments_lexer": "ipython3",
   "version": "3.9.16"
  },
  "orig_nbformat": 4
 },
 "nbformat": 4,
 "nbformat_minor": 2
}
