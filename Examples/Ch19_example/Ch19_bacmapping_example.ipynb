{
 "cells": [
  {
   "cell_type": "markdown",
   "metadata": {},
   "source": [
    "## Making restriction maps of the BACs in the RP11 library on chromosome 19\n",
    "\n",
    "This jupyter notebook contains an example of running the pipeline, the input data is reduced to only BACs in RP11 on chromosome 19 so it should only take a few minutes to run any command.\n",
    "\n",
    "Importing bacmapping as bmap to have access to the functions, importing plt from matplotlib so we can show a nice map when we're done, os is useful for moving around files"
   ]
  },
  {
   "cell_type": "code",
   "execution_count": null,
   "metadata": {},
   "outputs": [],
   "source": [
    "import bacmapping as bmap\n",
    "import matplotlib.pyplot as plt\n",
    "import os"
   ]
  },
  {
   "cell_type": "markdown",
   "metadata": {},
   "source": [
    "We need to get the clones we're going to map and download the sequence we are using\n",
    "For the full pipeline, we'd run getNewClones instead of getNewClonesMiniset. This would take longer and use more space.\n",
    "This will make two new folders, details and sequences, details has all the information on the clones, sequences has the sequences\n",
    "\n",
    "Run the following commands, it will take a few minutes to download everything"
   ]
  },
  {
   "cell_type": "code",
   "execution_count": null,
   "metadata": {},
   "outputs": [],
   "source": [
    "email = \"example@website.com\" # Remember to give NCBI your email!\n",
    "\n",
    "acc = 'NC_000019.10' # accession number of human genome chromosome 19\n",
    "lib = 'RP11' # library we're interested in\n",
    "chrom = '19' # chromosome number we're interested in\n",
    "chunksize = 1000 # how many entries to read into memory in each chunk, bigger = faster and more memory usage\n",
    "cpus = 8 # how many cpus to use in multiprocessing, more means faster but you need the cpus free\n",
    "\n",
    "bmap.getNewClonesMiniset(email, lib, acc, chrom, chunk_size = chunksize) # a variation on downloading the dataset which only downloads one library and one chromosome"
   ]
  },
  {
   "cell_type": "markdown",
   "metadata": {},
   "source": [
    "Map the end-sequenced BACs in the example dataset by running mapPlacedClones, this will take a few minutes to run"
   ]
  },
  {
   "cell_type": "code",
   "execution_count": null,
   "metadata": {},
   "outputs": [],
   "source": [
    "bmap.mapPlacedClones(cpustouse=cpus, chunk_size=chunksize)"
   ]
  },
  {
   "cell_type": "markdown",
   "metadata": {},
   "source": [
    "Some of the BACs are insert-sequenced and use a different function to be restriction mapped, mapSequencedClones"
   ]
  },
  {
   "cell_type": "code",
   "execution_count": null,
   "metadata": {},
   "outputs": [],
   "source": [
    "bmap.mapSequencedClones(cpustouse=cpus)"
   ]
  },
  {
   "cell_type": "markdown",
   "metadata": {},
   "source": [
    "The statistics on this dataset can be determined by running the following commands, which are detailed in the \"Functions for statistics\" section, they'll save 4 csv files with the results of this analysis"
   ]
  },
  {
   "cell_type": "code",
   "execution_count": null,
   "metadata": {},
   "outputs": [],
   "source": [
    "bmap.countPlacedBACs()\n",
    "bmap.getCoverage()\n",
    "bmap.getAverageLength()\n",
    "bmap.getSequencedClonesStats()"
   ]
  },
  {
   "cell_type": "markdown",
   "metadata": {},
   "source": [
    "Finally, let's explore one set of maps produced in the library, we'll return all the maps for one BAC which is included in the library and then get an image of the produced map."
   ]
  },
  {
   "cell_type": "code",
   "execution_count": null,
   "metadata": {},
   "outputs": [],
   "source": [
    "name = 'RP11-815C22'\n",
    "enzyme = 'FspI'\n",
    "maps = bmap.getMaps(name)\n",
    "print(maps)\n",
    "rmap = bmap.getRestrictionMap(name,enzyme)\n",
    "print(rmap)\n",
    "plt = bmap.drawMap(name, enzyme)\n",
    "plt.show()"
   ]
  },
  {
   "cell_type": "markdown",
   "metadata": {},
   "source": [
    "-   maps from bmap.getMaps(name) is a series of all the restriction maps for RP11-1055H23\n",
    "-   rmap from bmap.getRestrictionMap(name,enzyme) is just the cut locations of FspI in RP11-1055H23\n",
    "-   plt is a visual representation of rmap\n",
    "\n",
    "\n",
    "Then let's find pairs that include our BAC of interest"
   ]
  },
  {
   "cell_type": "code",
   "execution_count": null,
   "metadata": {},
   "outputs": [],
   "source": [
    "print(bmap.findPairsFromName(name,500,0))"
   ]
  },
  {
   "cell_type": "markdown",
   "metadata": {},
   "source": [
    "Instead of just finding one, we can find all BAC pairs which are linearized to produce overlapping ends. We'll set longestoverlap, the longest acceptable overlap in the overlapping end, to 500 and shortestoverlap, the shorted acceptable overlap, to 0. This means that we'll also include BACs which are linearized at the same site. This code will produce a file in pairs detailing all the possible pairs."
   ]
  },
  {
   "cell_type": "code",
   "execution_count": null,
   "metadata": {},
   "outputs": [],
   "source": [
    "bmap.makePairs(cpustouse=cpus,longestoverlap=500,shortestoverlap=0)"
   ]
  }
 ],
 "metadata": {
  "kernelspec": {
   "display_name": "bac",
   "language": "python",
   "name": "python3"
  },
  "language_info": {
   "codemirror_mode": {
    "name": "ipython",
    "version": 3
   },
   "file_extension": ".py",
   "mimetype": "text/x-python",
   "name": "python",
   "nbconvert_exporter": "python",
   "pygments_lexer": "ipython3",
   "version": "3.11.4"
  },
  "orig_nbformat": 4
 },
 "nbformat": 4,
 "nbformat_minor": 2
}
