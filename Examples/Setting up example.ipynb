{
 "cells": [
  {
   "cell_type": "code",
   "execution_count": 1,
   "metadata": {},
   "outputs": [],
   "source": [
    "import numpy as np\n",
    "import pandas as pd\n",
    "import os\n",
    "from Bio import Entrez"
   ]
  },
  {
   "cell_type": "code",
   "execution_count": 2,
   "metadata": {},
   "outputs": [
    {
     "name": "stdout",
     "output_type": "stream",
     "text": [
      "/home/edwin/Documents/bacmapping/Examples\n"
     ]
    }
   ],
   "source": [
    "wd = os.getcwd()\n",
    "print(wd)\n",
    "acc = 'NC_000019.10'\n",
    "lib = 'RP11'\n",
    "chrom = '11'\n",
    "fcnames = ['seqid','source','type','start','end','score','strand','phase','attributes']"
   ]
  },
  {
   "cell_type": "code",
   "execution_count": 3,
   "metadata": {},
   "outputs": [],
   "source": [
    "fpath = os.path.join(os.path.join(os.path.join(wd , 'details'),  'reordered' ), acc)\n",
    "inputf = pd.read_csv(fpath, sep='\\t')\n",
    "outputf = inputf[inputf['Library'] == lib]\n",
    "outputf.to_csv(fpath, sep='\\t')"
   ]
  },
  {
   "cell_type": "code",
   "execution_count": 4,
   "metadata": {},
   "outputs": [],
   "source": [
    "fpath = os.path.join(os.path.join(wd , 'sequences' ),  acc + '.fasta')\n",
    "Entrez.email = \"ewinden@wisc.edu\"\n",
    "net_handle = Entrez.efetch(db=\"nucleotide\", id=acc, rettype=\"fasta\", retmode=\"text\")\n",
    "out_handle = open(fpath, \"w\")\n",
    "out_handle.write(net_handle.read())\n",
    "out_handle.close()\n",
    "net_handle.close()"
   ]
  },
  {
   "cell_type": "code",
   "execution_count": 5,
   "metadata": {},
   "outputs": [],
   "source": [
    "fpath = os.path.join(os.path.join(wd , 'details'), 'RP11.GCF_000001405.38.118.unique.gff')\n",
    "inputf = pd.read_csv(fpath, sep='\\t')\n",
    "outputf = inputf[inputf['seqid'] == acc]\n",
    "outputf.to_csv(fpath, sep='\\t')"
   ]
  },
  {
   "cell_type": "code",
   "execution_count": 6,
   "metadata": {},
   "outputs": [],
   "source": [
    "fpath = os.path.join(os.path.join(wd , 'details'), 'RP11.GCF_000001405.38.118.unique_concordant.gff')\n",
    "inputf = pd.read_csv(fpath, sep='\\t', skiprows=8, names = fcnames)\n",
    "outputf = inputf[inputf['seqid'] == acc]\n",
    "outputf.to_csv(fpath, sep='\\t')"
   ]
  },
  {
   "cell_type": "code",
   "execution_count": 7,
   "metadata": {},
   "outputs": [],
   "source": [
    "fpath = os.path.join(os.path.join(wd , 'details'), 'RP11.GCF_000001405.38.118.unique_discordant.gff')\n",
    "inputf = pd.read_csv(fpath, sep='\\t', skiprows=8, names = fcnames)\n",
    "outputf = inputf[inputf['seqid'] == acc]\n",
    "outputf.to_csv(fpath, sep='\\t')"
   ]
  },
  {
   "cell_type": "code",
   "execution_count": 12,
   "metadata": {},
   "outputs": [],
   "source": [
    "fpath = os.path.join(os.path.join(wd , 'details'), 'clone_acstate_9606_onlyfinished.out')\n",
    "inputf = pd.read_csv(fpath, sep='\\t')\n",
    "outputfo = inputf[inputf['LibAbbr'] == lib]\n",
    "outputf = outputfo[outputfo['Chrom'] == chrom]\n",
    "outputf.to_csv(fpath, sep='\\t')"
   ]
  },
  {
   "cell_type": "code",
   "execution_count": 11,
   "metadata": {},
   "outputs": [],
   "source": [
    "fpath = os.path.join(os.path.join(os.path.join(wd , 'details'),  'repaired' ), 'RP11_repaired.gff')\n",
    "inputf = pd.read_csv(fpath, sep='\\t')\n",
    "outputf = inputf[inputf['seqid'] == acc]\n",
    "outputf.to_csv(fpath, sep='\\t')"
   ]
  },
  {
   "cell_type": "code",
   "execution_count": null,
   "metadata": {},
   "outputs": [],
   "source": []
  }
 ],
 "metadata": {
  "kernelspec": {
   "display_name": "bacm",
   "language": "python",
   "name": "python3"
  },
  "language_info": {
   "codemirror_mode": {
    "name": "ipython",
    "version": 3
   },
   "file_extension": ".py",
   "mimetype": "text/x-python",
   "name": "python",
   "nbconvert_exporter": "python",
   "pygments_lexer": "ipython3",
   "version": "3.11.4"
  },
  "orig_nbformat": 4
 },
 "nbformat": 4,
 "nbformat_minor": 2
}
